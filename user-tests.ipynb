{
 "metadata": {
  "language_info": {
   "codemirror_mode": {
    "name": "ipython",
    "version": 3
   },
   "file_extension": ".py",
   "mimetype": "text/x-python",
   "name": "python",
   "nbconvert_exporter": "python",
   "pygments_lexer": "ipython3",
   "version": "3.7.9-final"
  },
  "orig_nbformat": 2,
  "kernelspec": {
   "name": "python3",
   "display_name": "Python 3",
   "language": "python"
  }
 },
 "nbformat": 4,
 "nbformat_minor": 2,
 "cells": [
  {
   "cell_type": "code",
   "execution_count": 60,
   "metadata": {},
   "outputs": [],
   "source": [
    "seller_email = 'navneetsinghsajwan@gmail.com'"
   ]
  },
  {
   "cell_type": "code",
   "execution_count": 61,
   "metadata": {},
   "outputs": [],
   "source": [
    "buyer_email = 'iamnavneet619@gmail.com'"
   ]
  },
  {
   "cell_type": "code",
   "execution_count": 84,
   "metadata": {},
   "outputs": [],
   "source": [
    "admin_email = 'navneetsinghsajwan@gmail.com'"
   ]
  },
  {
   "cell_type": "code",
   "execution_count": 85,
   "metadata": {},
   "outputs": [
    {
     "output_type": "execute_result",
     "data": {
      "text/plain": [
       "<Response [200]>"
      ]
     },
     "metadata": {},
     "execution_count": 85
    }
   ],
   "source": [
    "import requests\n",
    "\n",
    "requests.get(\n",
    "  'https://api.escrow-sandbox.com/2017-09-01/customer/me',\n",
    "  auth=(admin_email, api_secret),\n",
    ")"
   ]
  },
  {
   "cell_type": "code",
   "execution_count": 80,
   "metadata": {},
   "outputs": [
    {
     "output_type": "execute_result",
     "data": {
      "text/plain": [
       "<Response [404]>"
      ]
     },
     "metadata": {},
     "execution_count": 80
    }
   ],
   "source": [
    "requests.get(\n",
    "  'https://api.escrow-sandbox.com/2017-09-01/transaction/100',\n",
    "  auth=('navneet@metaorigins.com', 'D@rSh8EZ3@5EP8J'),\n",
    ")"
   ]
  },
  {
   "cell_type": "code",
   "execution_count": 65,
   "metadata": {},
   "outputs": [
    {
     "output_type": "execute_result",
     "data": {
      "text/plain": [
       "<Response [403]>"
      ]
     },
     "metadata": {},
     "execution_count": 65
    }
   ],
   "source": [
    "import requests\n",
    "\n",
    "requests.post(\n",
    "  'https://api.escrow.com/2017-09-01/customer',\n",
    "  auth=('navneet@metaorigins.com', '14570_k69R3NyqW2TihDcfnklSheKmq82tDWX5ieEVGXIcHrmI793jf1yT44mTj2tV4ItD'),\n",
    "  json={\n",
    "    \"email\": \"rahul@metaorigins.com\",\n",
    "    \"first_name\": \"John\",\n",
    "    \"middle_name\": \"Kane\",\n",
    "    \"last_name\": \"Smith\",\n",
    "    \"address\": {\n",
    "      \"line1\": \"1829 West Lane\",\n",
    "      \"line2\": \"Apartment 301020\",\n",
    "      \"city\": \"San Francisco\",\n",
    "      \"state\": \"CA\",\n",
    "      \"country\": \"US\",\n",
    "      \"post_code\": \"10203\"\n",
    "    },\n",
    "    \"phone_number\": \"8885118600\"\n",
    "  }\n",
    ")\n"
   ]
  },
  {
   "cell_type": "code",
   "execution_count": 64,
   "metadata": {},
   "outputs": [
    {
     "output_type": "execute_result",
     "data": {
      "text/plain": [
       "<Response [403]>"
      ]
     },
     "metadata": {},
     "execution_count": 64
    }
   ],
   "source": [
    "import requests\n",
    "\n",
    "requests.post(\n",
    "  'https://api.escrow.com/2017-09-01/customer',\n",
    "  auth=(admin_email, api_secret),\n",
    "  json={\n",
    "    \"email\": 'rahul@metaorigins.com'\n",
    "  }\n",
    ")"
   ]
  },
  {
   "cell_type": "code",
   "execution_count": 63,
   "metadata": {},
   "outputs": [
    {
     "output_type": "execute_result",
     "data": {
      "text/plain": [
       "<Response [422]>"
      ]
     },
     "metadata": {},
     "execution_count": 63
    }
   ],
   "source": [
    "import requests\n",
    "\n",
    "requests.post(\n",
    "    'https://api.escrow.com/2017-09-01/transaction',\n",
    "    auth=(admin_email, api_secret),\n",
    "    json={\n",
    "        \"parties\": [\n",
    "            {\n",
    "                \"role\": \"buyer\",\n",
    "                \"customer\": buyer_email\n",
    "            },\n",
    "            {\n",
    "                \"role\": \"seller\",\n",
    "                \"customer\": seller_email\n",
    "            }\n",
    "        ],\n",
    "        \"currency\": \"usd\",\n",
    "        \"description\": \"The sale of johnwick.com\",\n",
    "        \"items\": [\n",
    "            {\n",
    "                \"title\": \"johnwick.com\",\n",
    "                \"description\": \"johnwick.com\",\n",
    "                \"type\": \"domain_name\",\n",
    "                \"inspection_period\": 259200,\n",
    "                \"quantity\": 1,\n",
    "                \"schedule\": [\n",
    "                    {\n",
    "                        \"amount\": 1000.0,\n",
    "                        \"payer_customer\": buyer_email,\n",
    "                        \"beneficiary_customer\": seller_email\n",
    "                    }\n",
    "                ],\n",
    "                \"extra_attributes\": {\n",
    "                    \"image_url\": \"https://i.ebayimg.com/images/g/RicAAOSwzO5e3DZs/s-l1600.jpg\",\n",
    "                    \"merchant_url\": \"https://www.ebay.com\"\n",
    "                }\n",
    "            }\n",
    "        ]\n",
    "    },\n",
    ")"
   ]
  },
  {
   "cell_type": "code",
   "execution_count": 30,
   "metadata": {},
   "outputs": [
    {
     "output_type": "execute_result",
     "data": {
      "text/plain": [
       "'UNAUTHORIZED'"
      ]
     },
     "metadata": {},
     "execution_count": 30
    }
   ],
   "source": []
  },
  {
   "cell_type": "code",
   "execution_count": 7,
   "metadata": {},
   "outputs": [],
   "source": [
    "response = requests.post(\n",
    "  'https://api.escrow.com/2017-09-01/customer',\n",
    "  auth=(admin_email, api_secret),\n",
    "  json={\n",
    "    \"email\": customer_email,\n",
    "    },\n",
    ")"
   ]
  },
  {
   "cell_type": "code",
   "execution_count": 8,
   "metadata": {},
   "outputs": [
    {
     "output_type": "execute_result",
     "data": {
      "text/plain": [
       "<Response [403]>"
      ]
     },
     "metadata": {},
     "execution_count": 8
    }
   ],
   "source": []
  }
 ]
}