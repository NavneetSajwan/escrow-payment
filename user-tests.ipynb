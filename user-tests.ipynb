{
 "metadata": {
  "language_info": {
   "codemirror_mode": {
    "name": "ipython",
    "version": 3
   },
   "file_extension": ".py",
   "mimetype": "text/x-python",
   "name": "python",
   "nbconvert_exporter": "python",
   "pygments_lexer": "ipython3",
   "version": "3.9.1-final"
  },
  "orig_nbformat": 2,
  "kernelspec": {
   "name": "python39164bittwilioconda30d1a9f7c7604759b4fae272e50c4d91",
   "display_name": "Python 3.9.1 64-bit ('twilio': conda)",
   "language": "python"
  }
 },
 "nbformat": 4,
 "nbformat_minor": 2,
 "cells": [
  {
   "cell_type": "code",
   "execution_count": 1,
   "metadata": {},
   "outputs": [],
   "source": [
    "import os"
   ]
  },
  {
   "cell_type": "code",
   "execution_count": 2,
   "metadata": {},
   "outputs": [],
   "source": [
    "from  config import api_secret"
   ]
  },
  {
   "cell_type": "code",
   "execution_count": 12,
   "metadata": {},
   "outputs": [],
   "source": [
    "seller_email = 'navneet@metaorigins.com'\n",
    "buyer_email = 'iamnavneet619@gmail.com'\n",
    "admin_email = 'navneetsinghsajwan@gmail.com'"
   ]
  },
  {
   "cell_type": "code",
   "execution_count": 14,
   "metadata": {},
   "outputs": [
    {
     "output_type": "execute_result",
     "data": {
      "text/plain": [
       "<Response [201]>"
      ]
     },
     "metadata": {},
     "execution_count": 14
    }
   ],
   "source": [
    "import requests\n",
    "\n",
    "requests.post(\n",
    "    'https://api.escrow-sandbox.com/2017-09-01/transaction',\n",
    "    auth=(admin_email, api_secret),\n",
    "    json={\n",
    "        \"parties\": [\n",
    "            {\n",
    "                \"role\": \"buyer\",\n",
    "                \"customer\": buyer_email\n",
    "            },\n",
    "            {\n",
    "                \"role\": \"seller\",\n",
    "                \"customer\": seller_email\n",
    "            },\n",
    "            {\n",
    "                \"role\": \"broker\",\n",
    "                \"customer\": \"me\"\n",
    "            },\n",
    "        ],\n",
    "        \"currency\": \"usd\",\n",
    "        \"description\": \"The sale of property\",\n",
    "        \"items\": [\n",
    "            {\n",
    "                \"title\": \"Hanging gardens\",\n",
    "                \"description\": \"HG\",\n",
    "                \"type\": \"general_merchandise\",\n",
    "                \"inspection_period\": 259200,\n",
    "                \"quantity\": 1,\n",
    "                \"schedule\": [\n",
    "                    {\n",
    "                        \"amount\": 2000.0,\n",
    "                        \"payer_customer\": buyer_email,\n",
    "                        \"beneficiary_customer\": seller_email\n",
    "                    }\n",
    "                ],\n",
    "                \"extra_attributes\": {\n",
    "                    \"image_url\": \"https://i.ebayimg.com/images/g/RicAAOSwzO5e3DZs/s-l1600.jpg\",\n",
    "                    \"merchant_url\": \"https://www.ebay.com\"\n",
    "                }\n",
    "            },\n",
    "                        {\n",
    "                \"title\": \"Broker Fee\",\n",
    "                \"description\": \"HG\",\n",
    "                \"type\": \"broker_fee\",\n",
    "                \"inspection_period\": 259200,\n",
    "                \"quantity\": 1,\n",
    "                \"schedule\": [\n",
    "                    {\n",
    "                        \"amount\": 425.0,\n",
    "                        \"payer_customer\": buyer_email,\n",
    "                        \"beneficiary_customer\": \"me\"\n",
    "                    }\n",
    "                ],\n",
    "            }\n",
    "        ],\n",
    "        \"type\": 'paypal_deposit'\n",
    "    },\n",
    ")"
   ]
  },
  {
   "cell_type": "code",
   "execution_count": 6,
   "metadata": {},
   "outputs": [
    {
     "output_type": "error",
     "ename": "NameError",
     "evalue": "name 'seller' is not defined",
     "traceback": [
      "\u001b[0;31m---------------------------------------------------------------------------\u001b[0m",
      "\u001b[0;31mNameError\u001b[0m                                 Traceback (most recent call last)",
      "\u001b[0;32m<ipython-input-6-380f9c737e31>\u001b[0m in \u001b[0;36m<module>\u001b[0;34m\u001b[0m\n\u001b[0;32m----> 1\u001b[0;31m \u001b[0mseller\u001b[0m\u001b[0;34m\u001b[0m\u001b[0;34m\u001b[0m\u001b[0m\n\u001b[0m",
      "\u001b[0;31mNameError\u001b[0m: name 'seller' is not defined"
     ]
    }
   ],
   "source": [
    "seller"
   ]
  }
 ]
}