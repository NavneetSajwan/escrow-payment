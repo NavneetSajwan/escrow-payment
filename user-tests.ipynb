{
 "metadata": {
  "language_info": {
   "codemirror_mode": {
    "name": "ipython",
    "version": 3
   },
   "file_extension": ".py",
   "mimetype": "text/x-python",
   "name": "python",
   "nbconvert_exporter": "python",
   "pygments_lexer": "ipython3",
   "version": "3.9.1-final"
  },
  "orig_nbformat": 2,
  "kernelspec": {
   "name": "python39164bittwilioconda30d1a9f7c7604759b4fae272e50c4d91",
   "display_name": "Python 3.9.1 64-bit ('twilio': conda)",
   "language": "python"
  }
 },
 "nbformat": 4,
 "nbformat_minor": 2,
 "cells": [
  {
   "cell_type": "code",
   "execution_count": 18,
   "metadata": {},
   "outputs": [],
   "source": [
    "import os"
   ]
  },
  {
   "cell_type": "code",
   "execution_count": 19,
   "metadata": {},
   "outputs": [],
   "source": [
    "from  config import api_secret"
   ]
  },
  {
   "cell_type": "code",
   "execution_count": 20,
   "metadata": {},
   "outputs": [],
   "source": [
    "buyer_email = 'navneet@metaorigins.com'\n",
    "seller_email = 'iamnavneet619@gmail.com'\n",
    "admin_email = 'navneetsinghsajwan@gmail.com'"
   ]
  },
  {
   "cell_type": "code",
   "execution_count": 4,
   "metadata": {},
   "outputs": [
    {
     "output_type": "execute_result",
     "data": {
      "text/plain": [
       "134.5"
      ]
     },
     "metadata": {},
     "execution_count": 4
    }
   ],
   "source": [
    "float(\"1345\")*0.1"
   ]
  },
  {
   "cell_type": "code",
   "execution_count": 14,
   "metadata": {},
   "outputs": [],
   "source": [
    "import requests\n",
    "\n",
    "resp = requests.post(\n",
    "    'https://api.escrow-sandbox.com/2017-09-01/transaction',\n",
    "    auth=(admin_email, api_secret),\n",
    "    json={\n",
    "        \"parties\": [\n",
    "            {\n",
    "                \"role\": \"buyer\",\n",
    "                \"customer\": buyer_email\n",
    "            },\n",
    "            {\n",
    "                \"role\": \"seller\",\n",
    "                \"customer\": seller_email\n",
    "            },\n",
    "            {\n",
    "                \"role\": \"broker\",\n",
    "                \"customer\": \"me\"\n",
    "            }\n",
    "        ],\n",
    "        \"currency\": \"usd\",\n",
    "        \"description\": \"2 Original signed copies of a movie poster for John Wick\",\n",
    "\n",
    "        \"items\": [\n",
    "            {\n",
    "                \"title\": \"2 Dell\",\n",
    "                \"description\": \"Old and damaged\",\n",
    "                \"type\": \"general_merchandise\",\n",
    "                \"shipping_type\": \"no_shipping\",\n",
    "                \"inspection_period\": 259200,\n",
    "                \"quantity\": 2,\n",
    "                \"schedule\": [\n",
    "                    {\n",
    "                        \"amount\": 3145,\n",
    "                        \"payer_customer\": buyer_email,\n",
    "                        \"beneficiary_customer\": seller_email\n",
    "                    }\n",
    "                    ],\n",
    "                \"fees\": [\n",
    "                    {\n",
    "                        \"payer_customer\": buyer_email,\n",
    "                        \"split\": 0.5,\n",
    "                        \"type\": \"escrow\"\n",
    "                        },\n",
    "                    {\n",
    "                        \"payer_customer\": seller_email,\n",
    "                        \"split\": 0.5,\n",
    "                        \"type\": \"escrow\"\n",
    "                        },   \n",
    "                    ]\n",
    "            },\n",
    "\n",
    "            {\n",
    "                \"title\":\"Broker Fee\",\n",
    "                \"description\": \"BF\",\n",
    "                \"type\": \"broker_fee\",\n",
    "                \"inspection_period\": 259200,\n",
    "                \"quantity\": 1,\n",
    "                \"schedule\": [\n",
    "                    {\n",
    "                        \"amount\": 50.0,\n",
    "                        \"payer_customer\": buyer_email,\n",
    "                        \"beneficiary_customer\": \"me\"\n",
    "                    }\n",
    "                ],\n",
    "                 \"fees\": [\n",
    "                    {\n",
    "                        \"payer_customer\": buyer_email,\n",
    "                        \"split\": 0.5,\n",
    "                        \"type\": \"escrow\"\n",
    "                        },\n",
    "                    {\n",
    "                        \"payer_customer\": seller_email,\n",
    "                        \"split\": 0.5,\n",
    "                        \"type\": \"escrow\"\n",
    "                        },   \n",
    "                    ]\n",
    "            },\n",
    "            {\n",
    "                \"title\":\"Broker Fee\",\n",
    "                \"description\": \"BF\",\n",
    "                \"type\": \"broker_fee\",\n",
    "                \"inspection_period\": 259200,\n",
    "                \"quantity\": 1,\n",
    "                \"schedule\": [\n",
    "                    {\n",
    "                        \"amount\": 50.0,\n",
    "                        \"payer_customer\": seller_email,\n",
    "                        \"beneficiary_customer\": \"me\"\n",
    "                    }],\n",
    "                \"fees\": [\n",
    "                    {\n",
    "                        \"payer_customer\": buyer_email,\n",
    "                        \"split\": 0.5,\n",
    "                        \"type\": \"escrow\"\n",
    "                        },\n",
    "                    {\n",
    "                        \"payer_customer\": seller_email,\n",
    "                        \"split\": 0.5,\n",
    "                        \"type\": \"escrow\"\n",
    "                        },   \n",
    "                    ]\n",
    "            },\n",
    "        ]\n",
    "    },\n",
    ")"
   ]
  },
  {
   "cell_type": "code",
   "execution_count": 15,
   "metadata": {},
   "outputs": [
    {
     "output_type": "execute_result",
     "data": {
      "text/plain": [
       "<Response [201]>"
      ]
     },
     "metadata": {},
     "execution_count": 15
    }
   ],
   "source": [
    "resp"
   ]
  },
  {
   "cell_type": "code",
   "execution_count": 17,
   "metadata": {},
   "outputs": [
    {
     "output_type": "execute_result",
     "data": {
      "text/plain": [
       "{'close_date': None,\n",
       " 'creation_date': '2021-02-27T15:07:34.713000+00:00',\n",
       " 'currency': 'usd',\n",
       " 'description': '2 Original signed copies of a movie poster for John Wick',\n",
       " 'id': 3862097,\n",
       " 'items': [{'description': 'Old and damaged',\n",
       "   'extra_attributes': {},\n",
       "   'fees': [{'amount': '51.92',\n",
       "     'amount_without_taxes': '51.92',\n",
       "     'payer_customer': 'navneet@metaorigins.com',\n",
       "     'split': '0.5',\n",
       "     'type': 'escrow'},\n",
       "    {'amount': '51.92',\n",
       "     'amount_without_taxes': '51.92',\n",
       "     'payer_customer': 'iamnavneet619@gmail.com',\n",
       "     'split': '0.5',\n",
       "     'type': 'escrow'}],\n",
       "   'id': 4453372,\n",
       "   'inspection_period': 259200,\n",
       "   'quantity': 2,\n",
       "   'schedule': [{'amount': '3145.00',\n",
       "     'beneficiary_customer': 'iamnavneet619@gmail.com',\n",
       "     'payer_customer': 'navneet@metaorigins.com',\n",
       "     'status': {'disbursed_to_beneficiary': False, 'secured': False}}],\n",
       "   'status': {'accepted': False,\n",
       "    'accepted_returned': False,\n",
       "    'canceled': False,\n",
       "    'in_dispute': False,\n",
       "    'received': False,\n",
       "    'received_returned': False,\n",
       "    'rejected': False,\n",
       "    'rejected_returned': False,\n",
       "    'shipped': False,\n",
       "    'shipped_returned': False},\n",
       "   'title': '2 Dell',\n",
       "   'type': 'general_merchandise'},\n",
       "  {'fees': [],\n",
       "   'parent_item_id': 4453372,\n",
       "   'quantity': 1,\n",
       "   'schedule': [{'amount': '50.00',\n",
       "     'beneficiary_customer': 'navneetsinghsajwan@gmail.com',\n",
       "     'payer_customer': 'navneet@metaorigins.com',\n",
       "     'status': {'disbursed_to_beneficiary': False, 'secured': False}}],\n",
       "   'title': 'Broker Fee',\n",
       "   'type': 'broker_fee'},\n",
       "  {'fees': [],\n",
       "   'parent_item_id': 4453372,\n",
       "   'quantity': 1,\n",
       "   'schedule': [{'amount': '50.00',\n",
       "     'beneficiary_customer': 'navneetsinghsajwan@gmail.com',\n",
       "     'payer_customer': 'iamnavneet619@gmail.com',\n",
       "     'status': {'disbursed_to_beneficiary': False, 'secured': False}}],\n",
       "   'title': 'Broker Fee',\n",
       "   'type': 'broker_fee'}],\n",
       " 'parties': [{'agreed': False,\n",
       "   'customer': 'navneet@metaorigins.com',\n",
       "   'id': 11743771,\n",
       "   'initiator': False,\n",
       "   'next_step': 'https://www.escrow-sandbox.com/agree?tid=3862097&token=34f04bb8-7b4e-40c5-983e-3f2ce716232c',\n",
       "   'role': 'buyer'},\n",
       "  {'agreed': False,\n",
       "   'customer': 'iamnavneet619@gmail.com',\n",
       "   'disbursement_method_selected': False,\n",
       "   'id': 11743772,\n",
       "   'initiator': False,\n",
       "   'next_step': 'https://www.escrow-sandbox.com/agree?tid=3862097&token=52d7af67-c82e-4b88-90fe-0baba97b7c18',\n",
       "   'role': 'seller',\n",
       "   'verification_required': True},\n",
       "  {'agreed': True,\n",
       "   'customer': 'navneetsinghsajwan@gmail.com',\n",
       "   'disbursement_method_selected': False,\n",
       "   'id': 11743773,\n",
       "   'initiator': True,\n",
       "   'role': 'broker'},\n",
       "  {'agreed': True,\n",
       "   'customer': 'navneetsinghsajwan@gmail.com',\n",
       "   'id': 11743774,\n",
       "   'role': 'partner'}]}"
      ]
     },
     "metadata": {},
     "execution_count": 17
    }
   ],
   "source": [
    "resp.json()"
   ]
  },
  {
   "cell_type": "code",
   "execution_count": 21,
   "metadata": {},
   "outputs": [
    {
     "output_type": "execute_result",
     "data": {
      "text/plain": [
       "<Response [201]>"
      ]
     },
     "metadata": {},
     "execution_count": 21
    }
   ],
   "source": [
    "import requests\n",
    "\n",
    "requests.post(\n",
    "    'https://integrationhelper.escrow-sandbox.com/v1/customer/1159313/verification',\n",
    "    auth=(admin_email, api_secret),\n",
    "    json={\n",
    "      \"personal\": True,\n",
    "      \"company\": False,\n",
    "    },\n",
    ")"
   ]
  },
  {
   "cell_type": "code",
   "execution_count": null,
   "metadata": {},
   "outputs": [],
   "source": []
  }
 ]
}