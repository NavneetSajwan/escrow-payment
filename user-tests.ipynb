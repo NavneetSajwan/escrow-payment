{
 "metadata": {
  "language_info": {
   "codemirror_mode": {
    "name": "ipython",
    "version": 3
   },
   "file_extension": ".py",
   "mimetype": "text/x-python",
   "name": "python",
   "nbconvert_exporter": "python",
   "pygments_lexer": "ipython3",
   "version": "3.9.1-final"
  },
  "orig_nbformat": 2,
  "kernelspec": {
   "name": "python39164bittwilioconda30d1a9f7c7604759b4fae272e50c4d91",
   "display_name": "Python 3.9.1 64-bit ('twilio': conda)",
   "language": "python"
  }
 },
 "nbformat": 4,
 "nbformat_minor": 2,
 "cells": [
  {
   "cell_type": "code",
   "execution_count": 4,
   "metadata": {},
   "outputs": [],
   "source": [
    "import os"
   ]
  },
  {
   "cell_type": "code",
   "execution_count": 5,
   "metadata": {},
   "outputs": [],
   "source": [
    "from  config import api_secret"
   ]
  },
  {
   "cell_type": "code",
   "execution_count": 6,
   "metadata": {},
   "outputs": [],
   "source": [
    "seller_email = 'navneet@metaorigins.com'\n",
    "buyer_email = 'iamnavneet619@gmail.com'\n",
    "admin_email = 'navneetsinghsajwan@gmail.com'"
   ]
  },
  {
   "cell_type": "code",
   "execution_count": 42,
   "metadata": {},
   "outputs": [
    {
     "output_type": "execute_result",
     "data": {
      "text/plain": [
       "<Response [201]>"
      ]
     },
     "metadata": {},
     "execution_count": 42
    }
   ],
   "source": [
    "import requests\n",
    "\n",
    "requests.post(\n",
    "    'https://api.escrow-sandbox.com/2017-09-01/transaction',\n",
    "    auth=(admin_email, api_secret),\n",
    "    json={\n",
    "        \"parties\": [\n",
    "            {\n",
    "                \"role\": \"buyer\",\n",
    "                \"customer\": buyer_email\n",
    "            },\n",
    "            {\n",
    "                \"role\": \"seller\",\n",
    "                \"customer\": seller_email\n",
    "            },\n",
    "            {\n",
    "                \"role\": \"broker\",\n",
    "                \"customer\": \"me\"\n",
    "            }\n",
    "        ],\n",
    "        \"currency\": \"usd\",\n",
    "        \"description\": \"2 Original signed copies of a movie poster for John Wick\",\n",
    "\n",
    "        \"items\": [\n",
    "            {\n",
    "                \"title\": \"2 Lenovo Laptops\",\n",
    "                \"description\": \"Old and damaged\",\n",
    "                \"type\": \"general_merchandise\",\n",
    "                \"inspection_period\": 259200,\n",
    "                \"quantity\": 2,\n",
    "                \"schedule\": [\n",
    "                    {\n",
    "                        \"amount\": 3140.0,\n",
    "                        \"payer_customer\": buyer_email,\n",
    "                        \"beneficiary_customer\": seller_email\n",
    "                    }\n",
    "                    ],\n",
    "                \"fees\": [\n",
    "                    {\n",
    "                        \"payer_customer\": buyer_email,\n",
    "                        \"split\": 0.5,\n",
    "                        \"type\": \"escrow\"\n",
    "                        },\n",
    "                    {\n",
    "                        \"payer_customer\": seller_email,\n",
    "                        \"split\": 0.5,\n",
    "                        \"type\": \"escrow\"\n",
    "                        },   \n",
    "                    ]\n",
    "            },\n",
    "\n",
    "            {\n",
    "                \"title\":\"Broker Fee\",\n",
    "                \"description\": \"BF\",\n",
    "                \"type\": \"broker_fee\",\n",
    "                \"inspection_period\": 259200,\n",
    "                \"quantity\": 1,\n",
    "                \"schedule\": [\n",
    "                    {\n",
    "                        \"amount\": 50.0,\n",
    "                        \"payer_customer\": buyer_email,\n",
    "                        \"beneficiary_customer\": \"me\"\n",
    "                    }\n",
    "                ],\n",
    "                 \"fees\": [\n",
    "                    {\n",
    "                        \"payer_customer\": buyer_email,\n",
    "                        \"split\": 0.5,\n",
    "                        \"type\": \"escrow\"\n",
    "                        },\n",
    "                    {\n",
    "                        \"payer_customer\": seller_email,\n",
    "                        \"split\": 0.5,\n",
    "                        \"type\": \"escrow\"\n",
    "                        },   \n",
    "                    ]\n",
    "            },\n",
    "            {\n",
    "                \"title\":\"Broker Fee\",\n",
    "                \"description\": \"BF\",\n",
    "                \"type\": \"broker_fee\",\n",
    "                \"inspection_period\": 259200,\n",
    "                \"quantity\": 1,\n",
    "                \"schedule\": [\n",
    "                    {\n",
    "                        \"amount\": 50.0,\n",
    "                        \"payer_customer\": seller_email,\n",
    "                        \"beneficiary_customer\": \"me\"\n",
    "                    }],\n",
    "                \"fees\": [\n",
    "                    {\n",
    "                        \"payer_customer\": buyer_email,\n",
    "                        \"split\": 0.5,\n",
    "                        \"type\": \"escrow\"\n",
    "                        },\n",
    "                    {\n",
    "                        \"payer_customer\": seller_email,\n",
    "                        \"split\": 0.5,\n",
    "                        \"type\": \"escrow\"\n",
    "                        },   \n",
    "                    ]\n",
    "            },\n",
    "        ]\n",
    "    },\n",
    ")"
   ]
  }
 ]
}